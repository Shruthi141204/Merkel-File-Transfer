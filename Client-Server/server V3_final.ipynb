{
 "cells": [
  {
   "cell_type": "markdown",
   "id": "080263f5",
   "metadata": {},
   "source": [
    "# Server"
   ]
  },
  {
   "cell_type": "markdown",
   "id": "57e16eda",
   "metadata": {},
   "source": [
    "### by \n",
    "### Nishanth.S and Shruthi.R\n",
    "#### CB.EN.U4AIE22149 , CB.EN.U4AIE22154\n",
    "##### Batch-B"
   ]
  },
  {
   "cell_type": "code",
   "execution_count": 1,
   "id": "631e1a40",
   "metadata": {
    "scrolled": true
   },
   "outputs": [
    {
     "name": "stdout",
     "output_type": "stream",
     "text": [
      "2\n",
      "Business Idea.pptx,car accesory.txt,Final_Rep.pdf,Narrator_script[1].txt,python_project_report_final.pdf,pY_REPFINAL[1].docx\n"
     ]
    }
   ],
   "source": [
    "import tkinter as tk\n",
    "import socket\n",
    "import os\n",
    "import threading\n",
    "\n",
    "server_running = False\n",
    "connection_info = \"\"\n",
    "\n",
    "def server_pgm():\n",
    "    global server_running\n",
    "    global connection_info\n",
    "    host = socket.gethostname()\n",
    "    port = 5002\n",
    "\n",
    "    while server_running:\n",
    "        server_socket = socket.socket()\n",
    "        server_socket.bind((host, port))\n",
    "        server_socket.listen(1)\n",
    "        conn, address = server_socket.accept()\n",
    "        connection_info = f\"Connection from: {address}\\n\"\n",
    "        received_files_folder = r\"D:\\server\" \n",
    "        option=conn.recv(1).decode()\n",
    "        print(option)\n",
    "        if option==\"1\":\n",
    "            \n",
    "            if not os.path.exists(received_files_folder):\n",
    "                os.makedirs(received_files_folder)\n",
    "\n",
    "            received_filename_length= conn.recv(3).decode()\n",
    "            #print(received_filename_length)\n",
    "            received_file_name=conn.recv(int(received_filename_length)).decode()\n",
    "            #print(received_file_name)\n",
    "\n",
    "            received_file_path = os.path.join(received_files_folder, received_file_name)\n",
    "            print(received_file_path)\n",
    "\n",
    "            with open(received_file_path, 'wb') as file:\n",
    "                while True:\n",
    "                    data = conn.recv(128)\n",
    "                    #print(data)\n",
    "                    if not data:\n",
    "                        break\n",
    "                    file.write(data)\n",
    "\n",
    "            connection_info += f\"File received and saved in '{received_files_folder}' as '{received_file_name}'\\n\"\n",
    "\n",
    "        elif option==\"2\":\n",
    "            file_list = []\n",
    "            for filename in os.listdir(received_files_folder):\n",
    "                file_path = os.path.join(received_files_folder, filename)\n",
    "                if os.path.isfile(file_path):\n",
    "                    file_list.append(filename)\n",
    "            files=\",\".join(file_list)\n",
    "            \n",
    "            chunk_size = 1024\n",
    "            for i in range(0, len(files), chunk_size):\n",
    "                chunk = files[i:i + chunk_size]\n",
    "                conn.send(chunk.encode())\n",
    "\n",
    "            conn.send(\"\".encode())\n",
    "            \n",
    "            print(files)\n",
    "            pass\n",
    "        elif option == \"3\":\n",
    "            selected_file = conn.recv(128).decode()\n",
    "            print(f\"Selected file: {selected_file}\")\n",
    "            selected_file_path = os.path.join(received_files_folder, selected_file)\n",
    "\n",
    "            with open(selected_file_path, 'rb') as file:\n",
    "                data = file.read(128)\n",
    "                while data:\n",
    "                    conn.send(data)\n",
    "                    data = file.read(128)\n",
    "\n",
    "        \n",
    "        conn.close()\n",
    "        server_socket.close()\n",
    "        status_label.config(text=connection_info)\n",
    "\n",
    "def start_server():\n",
    "    global server_running\n",
    "    if not server_running:\n",
    "        server_running = True\n",
    "        server_thread = threading.Thread(target=server_pgm)\n",
    "        server_thread.start()\n",
    "        start_button.config(text=\"Stop Server\", command=stop_server)\n",
    "        status_label.config(text=\"Server is running.\")\n",
    "\n",
    "def stop_server():\n",
    "    global server_running\n",
    "    if server_running:\n",
    "        server_running = False\n",
    "        start_button.config(text=\"Start Server\", command=start_server)\n",
    "        status_label.config(text=\"Server is stopped.\")\n",
    "\n",
    "root = tk.Tk()\n",
    "root.title(\"Server\")\n",
    "root.geometry(\"500x300\")\n",
    "root.configure(bg=\"#FFFFFF\")\n",
    "\n",
    "frame1 = tk.Frame(root, background=\"#FFFFFF\")\n",
    "\n",
    "lbl1 = tk.Label(root, text=\"Server\", font=('Vladimir Script', 25, 'bold'), bg=\"#FFFFFF\", fg='#00FFFF')\n",
    "status_label = tk.Label(root, text=\"Server is stopped.\", font=('Calibri', 12), bg=\"#FFFFFF\")\n",
    "\n",
    "start_button = tk.Button(frame1, text=\"Start Server\", command=start_server, font=('Calibri', 10), width=25)\n",
    "\n",
    "lbl1.pack()\n",
    "start_button.pack(pady=20)\n",
    "status_label.pack()\n",
    "frame1.pack()\n",
    "\n",
    "frame2 = tk.Frame(root, background=\"#AFFFFF\")\n",
    "lbl_version = tk.Label(root, text=\"Version : 2.0.01\", font=('Calibri', 15), bg=\"#FFFFFF\")\n",
    "lbl_version.pack()\n",
    "frame2.pack()\n",
    "\n",
    "root.mainloop()\n"
   ]
  },
  {
   "cell_type": "code",
   "execution_count": 1,
   "id": "3e46a81f",
   "metadata": {},
   "outputs": [
    {
     "name": "stdout",
     "output_type": "stream",
     "text": [
      "LAPTOP-SN01\n"
     ]
    }
   ],
   "source": [
    "import socket\n",
    "print(socket.gethostname())"
   ]
  },
  {
   "cell_type": "code",
   "execution_count": null,
   "id": "144b4b40",
   "metadata": {},
   "outputs": [],
   "source": []
  }
 ],
 "metadata": {
  "kernelspec": {
   "display_name": "Python 3 (ipykernel)",
   "language": "python",
   "name": "python3"
  },
  "language_info": {
   "codemirror_mode": {
    "name": "ipython",
    "version": 3
   },
   "file_extension": ".py",
   "mimetype": "text/x-python",
   "name": "python",
   "nbconvert_exporter": "python",
   "pygments_lexer": "ipython3",
   "version": "3.9.13"
  }
 },
 "nbformat": 4,
 "nbformat_minor": 5
}
